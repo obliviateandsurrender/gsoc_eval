{
 "cells": [
  {
   "cell_type": "markdown",
   "metadata": {},
   "source": [
    "# Evaluation test "
   ]
  },
  {
   "cell_type": "markdown",
   "metadata": {},
   "source": [
    "Import all the header files needed to complete the required tasks.\n",
    "1. `os` to get *.h5* file\n",
    "2. `datetime` and `pytz` for task 1.\n",
    "3. `h5py` and `csv` for task 2.\n",
    "4. `np`, `scipy`, and `matplotlip` for task 3.  "
   ]
  },
  {
   "cell_type": "code",
   "execution_count": 42,
   "metadata": {},
   "outputs": [],
   "source": [
    "from datetime import datetime, timedelta\n",
    "from matplotlib import pyplot as plt\n",
    "from scipy import signal as sig\n",
    "import numpy as np\n",
    "import pytz\n",
    "import h5py\n",
    "import csv\n",
    "import os"
   ]
  },
  {
   "cell_type": "markdown",
   "metadata": {},
   "source": [
    "Function `set_name`looks for *.h5* in your folder and returns its name. Instead of this we could simply hardcode the filename too. "
   ]
  },
  {
   "cell_type": "code",
   "execution_count": 58,
   "metadata": {},
   "outputs": [
    {
     "name": "stdout",
     "output_type": "stream",
     "text": [
      "1541962108935000000_167_838.h5\n"
     ]
    }
   ],
   "source": [
    "def set_name():\n",
    "    for file in os.listdir(\".\"):\n",
    "        if file.endswith(\".h5\"):\n",
    "            return file\n",
    "\n",
    "file = set_name()\n",
    "print(file)"
   ]
  },
  {
   "cell_type": "code",
   "execution_count": 51,
   "metadata": {},
   "outputs": [],
   "source": [
    "#optional\n",
    "file = \"1541962108935000000_167_838.h5\""
   ]
  },
  {
   "cell_type": "markdown",
   "metadata": {},
   "source": [
    "## Test 1\n",
    "\n",
    "1. `time_unix_nano` is the actual 19 digit integer that we need to convert into a datetime object. \n",
    "2. `timezone_sec` is the required timezone for CERN."
   ]
  },
  {
   "cell_type": "code",
   "execution_count": 61,
   "metadata": {},
   "outputs": [
    {
     "name": "stdout",
     "output_type": "stream",
     "text": [
      "1541962108935000000\n"
     ]
    }
   ],
   "source": [
    "time_unix_nano = int(file.split('.')[0].split('_')[0])\n",
    "timezone_sec = pytz.timezone('Europe/Zurich')\n",
    "\n",
    "print(time_unix_nano)"
   ]
  },
  {
   "cell_type": "markdown",
   "metadata": {},
   "source": [
    "1. Documentation for [utcfromtimestamp](https://docs.python.org/3/library/datetime.html#datetime.datetime.utcfromtimestamp): Return the UTC datetime corresponding to the POSIX timestamp, with `tzinfo` None.\n",
    "2. Hence to convert it into CERN timezone, we first replace `tzinfo` to `pytz.utc` and then use `astimezone` to manipulate the timezone. \n"
   ]
  },
  {
   "cell_type": "code",
   "execution_count": 56,
   "metadata": {},
   "outputs": [
    {
     "name": "stdout",
     "output_type": "stream",
     "text": [
      "2018-11-11 18:48:28.935000 2018-11-11 19:48:28.935000+01:00\n"
     ]
    }
   ],
   "source": [
    "time_utc = datetime.utcfromtimestamp(time_unix_nano/1e9)\n",
    "time_cern = time_utc.replace(tzinfo=pytz.utc).astimezone(timezone_sec)\n",
    "\n",
    "print(time_utc, time_cern)"
   ]
  },
  {
   "cell_type": "markdown",
   "metadata": {},
   "source": [
    "## Test 2\n",
    "\n",
    "`visit_and_seg` returns groups (including subgroups) and datasets. This is done by first iterating and storing all the objects available in h5py file using `visit`. We then test each object to be an instance of either `h5py.Group` or `h5py.Dataset`.\n"
   ]
  },
  {
   "cell_type": "code",
   "execution_count": 44,
   "metadata": {},
   "outputs": [],
   "source": [
    "def visit_and_seg(f, groups=[], datasets=[]):\n",
    "    all_h5_objs = []\n",
    "    f.visit(all_h5_objs.append)\n",
    "\n",
    "    for obj in all_h5_objs:\n",
    "        if isinstance(f[obj], h5py.Group):\n",
    "            groups.append(obj)\n",
    "        elif isinstance(f[obj], h5py.Dataset):\n",
    "            datasets.append(obj)\n",
    "        else:\n",
    "            continue\n",
    "    return groups, datasets"
   ]
  },
  {
   "cell_type": "markdown",
   "metadata": {},
   "source": [
    "## Test 2 (continued) and Test 3\n",
    "\n",
    "1. Now we read out *h5py* and *csv* file in read and write modes respectively. I've chosen three categories to make csv pretty simple - *Group*, *Subgroup* and *Dataset name*. \n",
    "2. Had encountering an error while storing datasets in np.arrays - `TypeError: No NumPy equivalent for TypeBitfieldID exists`, which seems to be a pretty common problem for such h5py files conversion. So, I'm using an `try and except` method as a workaround. Any alternate suggestion would be appreciated.\n",
    "3. Dictionaries are used to write in CSV.\n",
    "4. Hardcoding file names, and paths should be avoided, instead of passing strings directly we can use string variables to store dataset names. It is skipped here, since current use case is pretty much simple and straight forward. "
   ]
  },
  {
   "cell_type": "code",
   "execution_count": 63,
   "metadata": {},
   "outputs": [],
   "source": [
    "with h5py.File(file, mode=\"r\") as f:\n",
    "    with open('awake_csv', mode='w') as cs:\n",
    "        groups, datasets = visit_and_seg(f, groups=[], datasets=[])\n",
    "        fieldnames = ['Group', 'Subgroup', 'Name', 'Shape', 'Type', 'Size']\n",
    "        writer = csv.DictWriter(cs, fieldnames=fieldnames)\n",
    "        writer.writeheader()\n",
    "        all_h5_objs = []\n",
    "        groups = list(f.items())\n",
    "        subgroups, datasets = visit_and_seg(f)\n",
    "\n",
    "        for dataset in datasets:\n",
    "            data = f.get(dataset)\n",
    "            group = dataset.split('/')[0]\n",
    "            subgroup = '/'.join(dataset.split('/')[0:-1])\n",
    "            name = dataset.split('/')[-1]\n",
    "            shape = data.shape\n",
    "            try:\n",
    "                dtype = data.dtype\n",
    "            except TypeError:\n",
    "                dtype = \"Bytefield\"\n",
    "            size = data.size\n",
    "            writer.writerow({'Group': group, 'Subgroup': subgroup, 'Name': name,\n",
    "                   'Shape': shape, 'Type': dtype, 'Size': size})\n",
    "    data1 = f.get(\"AwakeEventData/XMPP-STREAK/StreakImage/streakImageData\")\n",
    "    height = f.get(\"AwakeEventData/XMPP-STREAK/StreakImage/streakImageHeight\")[0]\n",
    "    width = f.get(\"AwakeEventData/XMPP-STREAK/StreakImage/streakImageWidth\")[0]\n",
    "    dat_filt = sig.medfilt(np.reshape(data1, (-1, 2)),3)\n",
    "    cs.close()\n",
    "f.close()"
   ]
  },
  {
   "cell_type": "markdown",
   "metadata": {},
   "source": [
    "1. Divided by *80* to convert pixels to inches. \n",
    "2. Aspect ratio and Interpolation arguments are used to displays an image without interpolating between pixels if the display resolution is not the same as the image resolution, with automatic selection of aspect ratio. "
   ]
  },
  {
   "cell_type": "code",
   "execution_count": 64,
   "metadata": {},
   "outputs": [
    {
     "data": {
      "image/png": "[encoded data removed]",
      "text/plain": [
       "<Figure size 604.8x460.8 with 1 Axes>"
      ]
     },
     "metadata": {
      "needs_background": "light"
     },
     "output_type": "display_data"
    }
   ],
   "source": [
    "plt.figure(figsize=(width/80, height/80))\n",
    "plt.imshow(dat_filt, interpolation='nearest', aspect='auto')\n",
    "plt.savefig('awakefig.png')\n"
   ]
  }
 ],
 "metadata": {
  "kernelspec": {
   "display_name": "Python 3",
   "language": "python",
   "name": "python3"
  },
  "language_info": {
   "codemirror_mode": {
    "name": "ipython",
    "version": 3
   },
   "file_extension": ".py",
   "mimetype": "text/x-python",
   "name": "python",
   "nbconvert_exporter": "python",
   "pygments_lexer": "ipython3",
   "version": "3.6.7"
  }
 },
 "nbformat": 4,
 "nbformat_minor": 2
}
